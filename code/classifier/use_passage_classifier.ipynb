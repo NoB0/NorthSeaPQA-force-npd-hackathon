{
 "cells": [
  {
   "cell_type": "markdown",
   "metadata": {},
   "source": [
    "# Passage classification\n",
    "\n",
    "With this notebook, you can load a trained passage classifier and use it to classify passages in an interactive way."
   ]
  },
  {
   "cell_type": "markdown",
   "metadata": {},
   "source": [
    "## Imports"
   ]
  },
  {
   "cell_type": "code",
   "execution_count": 1,
   "metadata": {},
   "outputs": [
    {
     "name": "stderr",
     "output_type": "stream",
     "text": [
      "/Users/2925364/miniconda3/envs/npd/lib/python3.9/site-packages/tqdm/auto.py:21: TqdmWarning: IProgress not found. Please update jupyter and ipywidgets. See https://ipywidgets.readthedocs.io/en/stable/user_install.html\n",
      "  from .autonotebook import tqdm as notebook_tqdm\n"
     ]
    }
   ],
   "source": [
    "from transformers import pipeline"
   ]
  },
  {
   "cell_type": "markdown",
   "metadata": {},
   "source": [
    "If imports fail, please run the following cell to install the required packages."
   ]
  },
  {
   "cell_type": "code",
   "execution_count": null,
   "metadata": {},
   "outputs": [],
   "source": [
    "!pip install transformers"
   ]
  },
  {
   "cell_type": "markdown",
   "metadata": {},
   "source": [
    "## Load classifier"
   ]
  },
  {
   "cell_type": "code",
   "execution_count": 6,
   "metadata": {},
   "outputs": [],
   "source": [
    "model_path = \"../../data/model\"\n",
    "passage_classifier = pipeline(\"text-classification\", model=model_path, tokenizer=model_path)"
   ]
  },
  {
   "cell_type": "markdown",
   "metadata": {},
   "source": [
    "## Inference\n",
    "\n",
    "Reminder of the labels:\n",
    " - B: biostratigraphy\n",
    " - DD: daily drilling report\n",
    " - L: lithostratigraphy\n",
    " - G: geological description\n",
    " - D: drilling description\n",
    " - PP: petrophysical description\n",
    " - GC: geochemical description\n",
    " - R: rubbish\n",
    "\n",
    "The model outputs the label and its score for each passage in `passages`."
   ]
  },
  {
   "cell_type": "code",
   "execution_count": 7,
   "metadata": {},
   "outputs": [
    {
     "name": "stdout",
     "output_type": "stream",
     "text": [
      "[{'label': 'b', 'score': 0.6329213380813599}]\n"
     ]
    }
   ],
   "source": [
    "passages = [\"No.: 743 Category: RECOMMEND Keywords: CASING,CASING FLOAT PO: EQUIPMENT,SIDETRACKING Wellname: 6407/7-A-10 BY1H Phase: 13 1/2 An alluminum pen-o-trator shoe was run off whipstock which was set in 18 5/8 casing. Afterwards it was drilled with PowerDrive and PDC bit. The shoe sled off the whipstock without any problems. Later on it was drilled using recommendations from supplyer and using 12 1/4 PDC bit (FM2765E/5RS) without any problems and in less than 10 min. Registered date: 2003-01-11 23:04:24 by SKDT, PREBEN (imported Report)\"]\n",
    "\n",
    "categories = passage_classifier(passages)\n",
    "print(categories)"
   ]
  }
 ],
 "metadata": {
  "kernelspec": {
   "display_name": "npd",
   "language": "python",
   "name": "python3"
  },
  "language_info": {
   "codemirror_mode": {
    "name": "ipython",
    "version": 3
   },
   "file_extension": ".py",
   "mimetype": "text/x-python",
   "name": "python",
   "nbconvert_exporter": "python",
   "pygments_lexer": "ipython3",
   "version": "3.9.18"
  },
  "orig_nbformat": 4
 },
 "nbformat": 4,
 "nbformat_minor": 2
}
